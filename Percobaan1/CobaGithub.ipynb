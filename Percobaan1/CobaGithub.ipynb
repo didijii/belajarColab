{
  "nbformat": 4,
  "nbformat_minor": 0,
  "metadata": {
    "colab": {
      "provenance": [],
      "authorship_tag": "ABX9TyMYVW8Q9pk2I5ZpYyDTryoO",
      "include_colab_link": true
    },
    "kernelspec": {
      "name": "python3",
      "display_name": "Python 3"
    },
    "language_info": {
      "name": "python"
    }
  },
  "cells": [
    {
      "cell_type": "markdown",
      "metadata": {
        "id": "view-in-github",
        "colab_type": "text"
      },
      "source": [
        "<a href=\"https://colab.research.google.com/github/didijii/belajarColab/blob/main/Percobaan1/CobaGithub.ipynb\" target=\"_parent\"><img src=\"https://colab.research.google.com/assets/colab-badge.svg\" alt=\"Open In Colab\"/></a>"
      ]
    },
    {
      "cell_type": "markdown",
      "source": [
        "print(\"hai\")"
      ],
      "metadata": {
        "id": "fUzsZfAA-PCz"
      }
    },
    {
      "cell_type": "code",
      "source": [
        "print(\"cobacoba\")"
      ],
      "metadata": {
        "colab": {
          "base_uri": "https://localhost:8080/"
        },
        "id": "uHecvdRo_Z2O",
        "outputId": "ab6f7e98-3684-43a3-fb01-e9c3267a2714"
      },
      "execution_count": 5,
      "outputs": [
        {
          "output_type": "stream",
          "name": "stdout",
          "text": [
            "cobacoba\n"
          ]
        }
      ]
    }
  ]
}